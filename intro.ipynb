{
 "cells": [
  {
   "cell_type": "markdown",
   "metadata": {},
   "source": [
    "You are to write a Python program to generate a pattern resembling a chessboard. The chessboard should be 8x8 squares, and each square should be represented by a character (X for black squares and O for white squares).\n",
    "\n",
    "Here are the steps your program should follow:\n",
    "\n",
    "1. Define two variables, rows and columns, to store the dimensions of the chessboard (8x8).\n",
    "2. Use nested loops to generate the pattern:\n",
    "    The outer loop will iterate through each row.\n",
    "    The inner loop will iterate through each column in the current row.\n",
    "    Determine the color of the current square based on its position (Hint: You can use the sum of the row and column indices to determine the color).\n",
    "3. Print each row of the chessboard to the console as it's generated."
   ]
  },
  {
   "cell_type": "code",
   "execution_count": null,
   "metadata": {},
   "outputs": [],
   "source": [
    "rows = 8\n",
    "cols = 8\n",
    "\n",
    "for row in range(rows):\n",
    "    for col in range(cols):\n",
    "        if (row + col) % 2 == 0:\n",
    "            print(row+col, end=\" \")\n",
    "        else:\n",
    "            print(row+col, end=\" \")\n",
    "    print()"
   ]
  },
  {
   "cell_type": "code",
   "execution_count": null,
   "metadata": {},
   "outputs": [],
   "source": [
    "rows = 8\n",
    "cols = 8\n",
    "\n",
    "for row in range(rows):\n",
    "    for col in range(cols):\n",
    "        if (row + col) % 2 == 0:\n",
    "            print(\"X\", end=\" \")\n",
    "        else:\n",
    "            print(\"O\", end=\" \")\n",
    "    print()"
   ]
  },
  {
   "cell_type": "markdown",
   "metadata": {},
   "source": [
    "You are to write a Python program to generate a right-angled triangle pattern using characters. The pattern should have a base and height of 7 lines, and use the characters 1 and 0 to form the pattern.\n",
    "\n",
    "Here are the steps your program should follow:\n",
    "\n",
    "1 Define a variable, lines, to store the number of lines in the pattern (7).\n",
    "2 Use nested loops to generate the pattern:\n",
    "    The outer loop will iterate through each line.\n",
    "    The inner loop will iterate through each position in the current line.\n",
    "    Determine the character for the current position based on its position (Hint: You can use the sum of the row index and column index to determine the character).\n",
    "3 Print each line of the pattern to the console as it's generated.\n",
    "\n",
    "1\n",
    "01\n",
    "101\n",
    "0101\n",
    "10101\n",
    "010101\n",
    "1010101\n"
   ]
  },
  {
   "cell_type": "code",
   "execution_count": null,
   "metadata": {},
   "outputs": [],
   "source": [
    "rows = 5\n",
    "cols = 1\n",
    "for row in range(5):\n",
    "    for col in range(cols):\n",
    "        if (row+col) % 2 == 0:\n",
    "            print(1, end=\" \")\n",
    "        else:\n",
    "            print(0, end=\" \")\n",
    "    cols += 1   \n",
    "    print()"
   ]
  },
  {
   "cell_type": "code",
   "execution_count": null,
   "metadata": {},
   "outputs": [],
   "source": [
    "for row in range(1,11):\n",
    "    for col in range(1,11):\n",
    "        print(row*col, end=\" \")\n",
    "    print()"
   ]
  },
  {
   "cell_type": "code",
   "execution_count": null,
   "metadata": {},
   "outputs": [],
   "source": [
    "def swap(a,b):\n",
    "    a,b = b,a\n",
    "    return a,b\n",
    "a, b = 10, 20\n",
    "swap(a,b)"
   ]
  },
  {
   "cell_type": "code",
   "execution_count": null,
   "metadata": {},
   "outputs": [],
   "source": [
    "def func(lst):\n",
    "    return list(set(lst))\n",
    "\n",
    "lst = [1,1,2,2,3,3,4,4,4,5,5]\n",
    "print(func(lst))"
   ]
  },
  {
   "cell_type": "code",
   "execution_count": null,
   "metadata": {},
   "outputs": [],
   "source": [
    "def func(lst):\n",
    "    x = []\n",
    "    for i in lst:\n",
    "        if i not in x:\n",
    "            x.append(i)\n",
    "    return x\n",
    "\n",
    "print(func([1,1,2,2,3,3,3,4,4,4,5]))"
   ]
  },
  {
   "cell_type": "code",
   "execution_count": null,
   "metadata": {},
   "outputs": [],
   "source": [
    "def reverse():\n",
    "    x = 'Welcome to this class'\n",
    "    y = x.split()\n",
    "    z = []\n",
    "    for i in y:\n",
    "        z.append(i[::-1])\n",
    "    return \" \".join(z)\n",
    "\n",
    "print( reverse())"
   ]
  },
  {
   "cell_type": "code",
   "execution_count": 31,
   "metadata": {},
   "outputs": [
    {
     "name": "stdout",
     "output_type": "stream",
     "text": [
      "208\n"
     ]
    }
   ],
   "source": [
    "def mult(a,b):\n",
    "    return a*b\n",
    "print(mult(4,52))"
   ]
  },
  {
   "cell_type": "code",
   "execution_count": 3,
   "metadata": {},
   "outputs": [
    {
     "name": "stdout",
     "output_type": "stream",
     "text": [
      "6\n"
     ]
    }
   ],
   "source": [
    "def maximum():\n",
    "    n = 0\n",
    "    l = [1,2,3,4,5,6]\n",
    "    for i in l:\n",
    "        if n <= i:\n",
    "            n = i\n",
    "    print(n)\n",
    "\n",
    "maximum()"
   ]
  },
  {
   "cell_type": "code",
   "execution_count": null,
   "metadata": {},
   "outputs": [],
   "source": [
    "#Create a string that contains the following text: \"Hello, World!\" and print it.\n",
    "hello_world = 'Hello, Worlds'"
   ]
  },
  {
   "cell_type": "code",
   "execution_count": 3,
   "metadata": {},
   "outputs": [
    {
     "name": "stdout",
     "output_type": "stream",
     "text": [
      "-1\n"
     ]
    }
   ],
   "source": [
    "#Given the string \"Programming with Python\", extract and print the word \"Python\".\n",
    "python = 'Programming with Python'\n",
    "print(python.find('python'))"
   ]
  },
  {
   "cell_type": "code",
   "execution_count": null,
   "metadata": {},
   "outputs": [],
   "source": []
  }
 ],
 "metadata": {
  "kernelspec": {
   "display_name": "Python 3",
   "language": "python",
   "name": "python3"
  },
  "language_info": {
   "codemirror_mode": {
    "name": "ipython",
    "version": 3
   },
   "file_extension": ".py",
   "mimetype": "text/x-python",
   "name": "python",
   "nbconvert_exporter": "python",
   "pygments_lexer": "ipython3",
   "version": "3.11.4"
  },
  "orig_nbformat": 4
 },
 "nbformat": 4,
 "nbformat_minor": 2
}
